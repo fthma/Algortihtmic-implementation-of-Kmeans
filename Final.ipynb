{
 "cells": [
  {
   "cell_type": "code",
   "execution_count": 18,
   "metadata": {},
   "outputs": [
    {
     "name": "stdout",
     "output_type": "stream",
     "text": [
      "670\n",
      "300\n"
     ]
    }
   ],
   "source": [
    "import cv2\n",
    "from matplotlib import pyplot as plt\n",
    "import numpy as np\n",
    "from numpy import linalg\n",
    "\n",
    "imagepath=\"im-1.jpg\"\n",
    "image=cv2.imread(imagepath)\n",
    "\n",
    "print(len(image))\n",
    "\n",
    "def display_features(img,Title,pts):\n",
    "    points=pts\n",
    "    image=cv2.imread(imagepath)\n",
    "    grayImage=cv2.imread(imagepath,0)\n",
    "    grayImage=np.float32(grayImage)\n",
    "    corners=cv2.goodFeaturesToTrack(grayImage,points,0.01,10)\n",
    "    for c in corners:\n",
    "        x,y=c.ravel()\n",
    "        cv2.circle(image,(x,y),3,(0,0,255),-1)\n",
    "\n",
    "    cv2.imshow(Title,image)\n",
    "    cv2.waitKey(0)\n",
    "    \n",
    "    return corners\n",
    "\n",
    "\n",
    "display_features(image,\"All points\",0)\n",
    "corners=display_features(image,\"300 strong  points\",300)\n",
    "print(len(corners))\n",
    "\n",
    "#print(corners)\n",
    "def getLabel(corner, centroids):\n",
    "    distArr=[]   \n",
    "    centroids=np.array(centroids)\n",
    "    for ctrd in centroids:\n",
    "        dist=linalg.norm(corner-ctrd)\n",
    "        distArr.append(dist)\n",
    "    min_value=min(distArr)\n",
    "    return distArr.index(min_value)\n",
    "\n",
    "def myplotting(X,labels,Clusters,k):\n",
    "    colors=[(0,0,255), (255,0,0),(0,255,0),(0,255,255),(0,128,255),(0,128,0),(0,95,100)]\n",
    "    X=X.reshape(len(X),2)\n",
    "    labels=labels.astype(int)\n",
    "    for i in range(len(X)):\n",
    "        x=X[i][0]\n",
    "        y=X[i][1]\n",
    "        cv2.circle(image,(x,y),4,colors[labels[i]],-1)\n",
    "    \n",
    "    for i in range(k):\n",
    "        x,y,w,h = cv2.boundingRect(np.float32(Clusters[i]))\n",
    "        cv2.rectangle(image,(x+1,y+1),(x+w,y+h),colors[i],1)\n",
    "\n",
    "    cv2.imshow(\"clusters\",image)\n",
    "    cv2.waitKey(0)\n",
    "    \n",
    "    \n",
    "def myKmeans(X,k):\n",
    "    \n",
    "    ctrds=[X[14],X[110],X[120], X[155],X[141], X[291],X[210]]  \n",
    "    centroids=ctrds[0:k]\n",
    "    threshold=0\n",
    "    \n",
    "    \n",
    "    while(threshold<3):\n",
    "        LabelArr=np.empty((len(X)))\n",
    "        CL0=[]\n",
    "        CL1=[]\n",
    "        CL2=[]\n",
    "        CL3=[]\n",
    "        Clusters=[]\n",
    "        new_centroids=[]\n",
    "        \n",
    "        for i in range(len(X)):\n",
    "            corner=X[i]\n",
    "            label=getLabel(corner,centroids)\n",
    "            LabelArr[i]=label\n",
    "                  \n",
    "        for i in range(k):\n",
    "            C=[]\n",
    "            for j in range(len(X)):\n",
    "                if(LabelArr[j]==i):\n",
    "                    C.append(X[j])\n",
    "            new_centroids.append(np.mean(C,axis=0))\n",
    "            Clusters.append(C)\n",
    "               \n",
    "        if np.array_equal(centroids,new_centroids):\n",
    "            threshold=threshold+1\n",
    "        else:\n",
    "            centroids=new_centroids\n",
    "        \n",
    "    myplotting(X,LabelArr,Clusters,k) \n",
    "       \n",
    "\n",
    "        \n",
    "#calling myKmeans and giving the value of k.\n",
    "myKmeans(corners,4)"
   ]
  },
  {
   "cell_type": "code",
   "execution_count": null,
   "metadata": {},
   "outputs": [],
   "source": []
  },
  {
   "cell_type": "code",
   "execution_count": 169,
   "metadata": {},
   "outputs": [],
   "source": []
  },
  {
   "cell_type": "code",
   "execution_count": 145,
   "metadata": {},
   "outputs": [],
   "source": []
  },
  {
   "cell_type": "code",
   "execution_count": 160,
   "metadata": {},
   "outputs": [],
   "source": [
    "\n",
    "       \n"
   ]
  },
  {
   "cell_type": "code",
   "execution_count": null,
   "metadata": {},
   "outputs": [],
   "source": []
  },
  {
   "cell_type": "code",
   "execution_count": 162,
   "metadata": {},
   "outputs": [],
   "source": []
  },
  {
   "cell_type": "code",
   "execution_count": null,
   "metadata": {},
   "outputs": [],
   "source": []
  },
  {
   "cell_type": "code",
   "execution_count": null,
   "metadata": {},
   "outputs": [],
   "source": []
  },
  {
   "cell_type": "code",
   "execution_count": null,
   "metadata": {},
   "outputs": [],
   "source": []
  },
  {
   "cell_type": "code",
   "execution_count": null,
   "metadata": {},
   "outputs": [],
   "source": []
  },
  {
   "cell_type": "code",
   "execution_count": null,
   "metadata": {},
   "outputs": [],
   "source": []
  }
 ],
 "metadata": {
  "kernelspec": {
   "display_name": "Python 3",
   "language": "python",
   "name": "python3"
  },
  "language_info": {
   "codemirror_mode": {
    "name": "ipython",
    "version": 3
   },
   "file_extension": ".py",
   "mimetype": "text/x-python",
   "name": "python",
   "nbconvert_exporter": "python",
   "pygments_lexer": "ipython3",
   "version": "3.6.2"
  }
 },
 "nbformat": 4,
 "nbformat_minor": 4
}
